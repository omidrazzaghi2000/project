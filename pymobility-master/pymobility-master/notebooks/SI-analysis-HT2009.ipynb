{
 "metadata": {
  "name": "",
  "signature": "sha256:726c9fa04ef1606996d0bdeecb3fe9f5f7d44a3877686689b560ac3e50ba521e"
 },
 "nbformat": 3,
 "nbformat_minor": 0,
 "worksheets": [
  {
   "cells": [
    {
     "cell_type": "markdown",
     "metadata": {},
     "source": [
      "# Analysis of the Hypertext 2009 SocioPatterns dataset"
     ]
    },
    {
     "cell_type": "code",
     "collapsed": false,
     "input": [
      "%pylab inline"
     ],
     "language": "python",
     "metadata": {},
     "outputs": [
      {
       "output_type": "stream",
       "stream": "stdout",
       "text": [
        "Populating the interactive namespace from numpy and matplotlib\n"
       ]
      }
     ],
     "prompt_number": 1
    },
    {
     "cell_type": "markdown",
     "metadata": {},
     "source": [
      "### Load the HT2009 dataset"
     ]
    },
    {
     "cell_type": "code",
     "collapsed": false,
     "input": [
      "def load_HT2009_data():\n",
      "    \n",
      "    import urllib2\n",
      "    import gzip\n",
      "    from StringIO import StringIO\n",
      "\n",
      "    response = urllib2.urlopen(\"http://www.sociopatterns.org/files/datasets/003/ht09_contact_list.dat.gz\")\n",
      "    buf = StringIO(response.read())\n",
      "    f = gzip.GzipFile(fileobj=buf)\n",
      "    \n",
      "    frames_dict = {}\n",
      "    for line in f:\n",
      "        (time, source, target) = map(int, line.split('\\t'))\n",
      "        if source == target:\n",
      "            continue\n",
      "        if time not in frames_dict:\n",
      "            frames_dict[time] = []\n",
      "        frames_dict[time].append((source, target))\n",
      "    \n",
      "    frames = []\n",
      "    for t in range(min(frames_dict.keys()), max(frames_dict.keys()), 20):\n",
      "        if t not in frames_dict:\n",
      "            frames.append([])\n",
      "        else:\n",
      "            frames.append(frames_dict[t])\n",
      "    return frames\n",
      "\n",
      "frames = load_HT2009_data()\n",
      "print 'loaded %d frames' % len(frames)"
     ],
     "language": "python",
     "metadata": {},
     "outputs": [
      {
       "output_type": "stream",
       "stream": "stdout",
       "text": [
        "loaded 10617 frames\n"
       ]
      }
     ],
     "prompt_number": 2
    },
    {
     "cell_type": "markdown",
     "metadata": {},
     "source": [
      "## Plotting the network statistics\n",
      "\n",
      "We will plot some network statistics, such as **contact time** and **inter-contact time** histograms.\n",
      "\n",
      "To start, we convert the list of frames (with a list of contacts in each frame) in a list of intervals.\n",
      "\n",
      "*frames* is a list of structures in the format:\n",
      "\n",
      "    [\n",
      "        [(source1, target1), (source2, target2), ...],\n",
      "        [(source1, target1), (source2, target2), ...],\n",
      "        ...\n",
      "    ]\n",
      "\n",
      "The result is a list of contact intervals in the format:\n",
      "\n",
      "    [\n",
      "        (source1, target1, start, end),\n",
      "        (source2, target2, start, end),\n",
      "        ...\n",
      "    ]"
     ]
    },
    {
     "cell_type": "code",
     "collapsed": false,
     "input": [
      "contact_intervals = []\n",
      "\n",
      "graph = set()\n",
      "start_graph = {}\n",
      "frame_count = 0\n",
      "\n",
      "for frame in frames:\n",
      "    succ_graph = set((source, target) for (source, target) in frame)\n",
      "    \n",
      "    diff_graph = succ_graph - graph\n",
      "    for source, target in diff_graph:\n",
      "        start_graph[(source, target)] = frame_count\n",
      "    \n",
      "    diff_graph = graph - succ_graph\n",
      "    for source, target in diff_graph:\n",
      "        start = start_graph[(source, target)]\n",
      "        contact_intervals.append((source, target, start, frame_count))\n",
      "        del start_graph[(source, target)]\n",
      "        \n",
      "    graph = succ_graph\n",
      "    frame_count += 1\n",
      "\n",
      "# add the remaining contacts\n",
      "for (source, target) in graph:\n",
      "    start = start_graph[(source, target)]\n",
      "    contact_intervals.append((source, target, start, frame_count))"
     ],
     "language": "python",
     "metadata": {},
     "outputs": [],
     "prompt_number": 3
    },
    {
     "cell_type": "markdown",
     "metadata": {},
     "source": [
      "Plot the histogram of **contact times**, using the values found in the contact intervals:"
     ]
    },
    {
     "cell_type": "code",
     "collapsed": false,
     "input": [
      "contact_times = [end - start for (source, target, start, end) in contact_intervals]\n",
      "#hist(contact_times, bins=np.arange(1, max(contact_times)), align='left', log=True, normed=True)\n",
      "x, bins = np.histogram(contact_times, bins=np.arange(1, max(contact_times)), density=True)\n",
      "plot(bins[1:], x, 'bo')\n",
      "yscale('log')\n",
      "xscale('log')\n",
      "xlabel('Contact Time')\n",
      "ylabel('Frequency');"
     ],
     "language": "python",
     "metadata": {},
     "outputs": [
      {
       "metadata": {},
       "output_type": "display_data",
       "png": "[encoded data removed]",
       "text": [
        "<matplotlib.figure.Figure at 0x7ff78b058750>"
       ]
      }
     ],
     "prompt_number": 4
    },
    {
     "cell_type": "markdown",
     "metadata": {},
     "source": [
      "Convert the list of intervals in a dictionary of dictionaries where each key is a node id and the corresponding value is a dictionary of neighbors of that node in the contact network. This dictionary of neighbors has node ids \n",
      "as keys and, for each key, the value gives the list of time intervals \n",
      "during which the corresponding contact was active.\n",
      "\n",
      "In short, each entry `d[source][target]` is a list of contacts from source to target\n",
      "with (start,end) intervals."
     ]
    },
    {
     "cell_type": "code",
     "collapsed": false,
     "input": [
      "d = {}\n",
      "for (source, target, start, end) in contact_intervals:\n",
      "    if source not in d:\n",
      "        d[source] = {}\n",
      "    if target not in d[source]:\n",
      "        d[source][target] = []\n",
      "    d[source][target].append([start,end])"
     ],
     "language": "python",
     "metadata": {},
     "outputs": [],
     "prompt_number": 5
    },
    {
     "cell_type": "markdown",
     "metadata": {},
     "source": [
      "Plot the histogram of **inter-contact times**, using the dictionary of contacts:"
     ]
    },
    {
     "cell_type": "code",
     "collapsed": false,
     "input": [
      "inter_contact_times = []\n",
      "for source in d:\n",
      "    for target in d[source]:\n",
      "        intervals = array(sorted(d[source][target]))\n",
      "        inter_contact_times.extend(intervals[1:, 1] - intervals[:-1, 0])\n",
      "\n",
      "#hist(inter_contact_times, bins=np.arange(0, max(inter_contact_times), 5), align='left', log=True, normed=True)\n",
      "\n",
      "# ubound = np.log(np.max(contact_times))/np.log(1.1)\n",
      "# bins = np.unique(np.logspace(0, ubound, 50, base=1.1).astype(int))\n",
      "bins = np.arange(1, max(inter_contact_times))\n",
      "\n",
      "x, bins = np.histogram(inter_contact_times, bins=np.arange(1, max(inter_contact_times)), density=True)\n",
      "plot(bins[1:], x, 'bo')\n",
      "xlim(1, None)\n",
      "yscale('log')\n",
      "xscale('log')\n",
      "xlabel('Contact Time')\n",
      "ylabel('Frequency');"
     ],
     "language": "python",
     "metadata": {},
     "outputs": [
      {
       "metadata": {},
       "output_type": "display_data",
       "png": "[encoded data removed]",
       "text": [
        "<matplotlib.figure.Figure at 0x7ff771886ed0>"
       ]
      }
     ],
     "prompt_number": 6
    },
    {
     "cell_type": "code",
     "collapsed": false,
     "input": [
      "contacts_per_link = []\n",
      "for source in d:\n",
      "    for target in d[source]:\n",
      "        contacts_per_link.append(len(d[source][target]))\n",
      "\n",
      "bins = np.linspace(1, max(contacts_per_link), 50)\n",
      "x, bins = np.histogram(contacts_per_link, bins=bins, density=True)\n",
      "plot(bins[1:], x, 'bo')\n",
      "xlim(1, None)\n",
      "yscale('log')\n",
      "xscale('log')\n",
      "xlabel('Contacts Per Link')\n",
      "ylabel('Frequency');"
     ],
     "language": "python",
     "metadata": {},
     "outputs": [
      {
       "metadata": {},
       "output_type": "display_data",
       "png": "[encoded data removed]",
       "text": [
        "<matplotlib.figure.Figure at 0x7ff770c723d0>"
       ]
      }
     ],
     "prompt_number": 7
    },
    {
     "cell_type": "markdown",
     "metadata": {},
     "source": [
      "The next sections depend on Cython.\n",
      "\n",
      "The function `framecount_onestep_infection_sim` implements a SI simulation in a list of frames, starting from an infected node, and returns a list of integers that represent the number of contacts each node performed before getting infected."
     ]
    },
    {
     "cell_type": "code",
     "collapsed": false,
     "input": [
      "%load_ext cythonmagic"
     ],
     "language": "python",
     "metadata": {},
     "outputs": [],
     "prompt_number": 8
    },
    {
     "cell_type": "code",
     "collapsed": false,
     "input": [
      "%%cython\n",
      "\n",
      "import numpy as np\n",
      "cimport numpy as np\n",
      "cimport cython\n",
      "\n",
      "ctypedef np.int_t ITYPE_t\n",
      "\n",
      "#@cython.boundscheck(False)\n",
      "def framecount_onestep_infection_sim(frames, idxnodes, infected_node):\n",
      "    # the number of nodes\n",
      "    cdef int n = len(idxnodes)\n",
      "    # array with infected node positions\n",
      "    cdef np.ndarray[ITYPE_t, ndim=1, mode=\"c\"] infected = np.zeros(n, dtype=np.int)\n",
      "    # array with node contact times\n",
      "    cdef np.ndarray[ITYPE_t, ndim=1, mode=\"c\"] ct = np.zeros(n, dtype=np.int)\n",
      "    # number of nodes infected\n",
      "    cdef int ninfected = 1\n",
      "    # set to True when infection starts\n",
      "    cdef int infstarted = 0\n",
      "    \n",
      "    cdef int infected_in_frame\n",
      "    cdef unsigned int sidx, tidx\n",
      "    cdef ITYPE_t infs, inft\n",
      "    \n",
      "    # infects the infected node\n",
      "    infected[idxnodes[infected_node]] = 1\n",
      "    \n",
      "    for contacts in frames:\n",
      "        infected_in_frame = 1\n",
      "        \n",
      "        while infected_in_frame:\n",
      "            infected_in_frame = 0\n",
      "            for (s,t) in contacts:\n",
      "                try:\n",
      "                    sidx = <unsigned int> idxnodes[s]\n",
      "                    tidx = <unsigned int> idxnodes[t]\n",
      "                except KeyError:\n",
      "                    continue\n",
      "                infs = infected[sidx]\n",
      "                inft = infected[tidx]\n",
      "                if inft and not infs:\n",
      "                    infected[sidx] = 1\n",
      "                    ninfected += 1\n",
      "                    infected_in_frame = 1\n",
      "                    infstarted = 1\n",
      "                elif infs and not inft:\n",
      "                    infected[tidx] = 1\n",
      "                    ninfected += 1\n",
      "                    infected_in_frame = 1\n",
      "                    infstarted = 1\n",
      "        \n",
      "        if infstarted:\n",
      "            for (s,t) in contacts:\n",
      "                try:\n",
      "                    sidx = <unsigned int> idxnodes[s]\n",
      "                    tidx = <unsigned int> idxnodes[t]\n",
      "                except KeyError:\n",
      "                    continue\n",
      "                if not infected[sidx]:\n",
      "                    ct[sidx] += 1\n",
      "                if not infected[tidx]:\n",
      "                    ct[tidx] += 1\n",
      "            \n",
      "        if ninfected >= n: break\n",
      "    \n",
      "    infected[idxnodes[infected_node]] = 0.\n",
      "    return ct[np.nonzero(infected)]"
     ],
     "language": "python",
     "metadata": {},
     "outputs": [],
     "prompt_number": 9
    },
    {
     "cell_type": "code",
     "collapsed": false,
     "input": [
      "def select_startframes(frames, n, random_start_frames=False, ignore=0.1):\n",
      "    '''Select n frame positions from the timeline'''\n",
      "    contact_frames = np.array(reduce(lambda x,y: x+y,\n",
      "                                  ([i]*len(contacts) for i, contacts in enumerate(frames))))\n",
      "    n_ignored = int(len(contact_frames)*ignore)\n",
      "    last = len(contact_frames)-n_ignored\n",
      "    if not random_start_frames:\n",
      "        idxs = np.arange(n_ignored, last, (last-n_ignored)/n)\n",
      "        return contact_frames[idxs]\n",
      "    else:\n",
      "        l = contact_frames[n_ignored:last]\n",
      "        np.random.shuffle(l)\n",
      "        return l[:n]"
     ],
     "language": "python",
     "metadata": {},
     "outputs": [],
     "prompt_number": 10
    },
    {
     "cell_type": "code",
     "collapsed": false,
     "input": [
      "def active_nodes(frames, sf):\n",
      "    '''Find the nodes that are active at frame sf: \n",
      "    the nodes that are present both before and after this frame.'''\n",
      "    nodes_before = set()\n",
      "    for i in range(sf):\n",
      "        for (s,t) in frames[i]:\n",
      "            nodes_before.add(s)\n",
      "            nodes_before.add(t)\n",
      "    nodes_after = set()\n",
      "    for i in range(sf, len(frames)):\n",
      "        for (s,t) in frames[i]:\n",
      "            nodes_after.add(s)\n",
      "            nodes_after.add(t)\n",
      "    return nodes_before.intersection(nodes_after)"
     ],
     "language": "python",
     "metadata": {},
     "outputs": [],
     "prompt_number": 11
    },
    {
     "cell_type": "code",
     "collapsed": false,
     "input": [
      "sim = framecount_onestep_infection_sim\n",
      "\n",
      "start_frames = select_startframes(frames, 200, random_start_frames=False)\n",
      "\n",
      "contact_times = []\n",
      "for start_frame in start_frames:\n",
      "    \n",
      "    nodes = active_nodes(frames, start_frame)\n",
      "    frames_sim = frames[start_frame:]\n",
      "    r = np.concatenate(map(lambda node: sim(frames_sim, dict(zip(nodes, range(len(nodes)))), node), nodes))\n",
      "    contact_times.append(r)\n",
      "contact_times = np.concatenate(contact_times)"
     ],
     "language": "python",
     "metadata": {},
     "outputs": [],
     "prompt_number": 12
    },
    {
     "cell_type": "code",
     "collapsed": false,
     "input": [
      "count, bins = np.histogram(contact_times+1, bins=np.linspace(0, 1000, 1001), density=True)\n",
      "plot(bins[:-1], count, '.')\n",
      "xlabel('Node Activity (Number of Contacts)')\n",
      "ylabel('Frequency')\n",
      "loglog();"
     ],
     "language": "python",
     "metadata": {},
     "outputs": [
      {
       "metadata": {},
       "output_type": "display_data",
       "png": "[encoded data removed]",
       "text": [
        "<matplotlib.figure.Figure at 0x7ff79156c310>"
       ]
      }
     ],
     "prompt_number": 13
    },
    {
     "cell_type": "code",
     "collapsed": false,
     "input": [
      "ubound = np.log(np.max(contact_times))/np.log(1.1)\n",
      "bins = np.unique(np.logspace(0, ubound, 50, base=1.1).astype(int))\n",
      "count, bins = np.histogram(contact_times+1, bins=bins, density=True)\n",
      "plot(bins[:-1], count, '.')\n",
      "xlabel('Node Activity (Number of Contacts)')\n",
      "ylabel('Frequency')\n",
      "loglog();"
     ],
     "language": "python",
     "metadata": {},
     "outputs": [
      {
       "metadata": {},
       "output_type": "display_data",
       "png": "[encoded data removed]",
       "text": [
        "<matplotlib.figure.Figure at 0x7ff770de77d0>"
       ]
      }
     ],
     "prompt_number": 14
    },
    {
     "cell_type": "code",
     "collapsed": false,
     "input": [],
     "language": "python",
     "metadata": {},
     "outputs": [],
     "prompt_number": 14
    }
   ],
   "metadata": {}
  }
 ]
}