{
 "cells": [
  {
   "cell_type": "markdown",
   "metadata": {},
   "source": [
    "In the name of God  "
   ]
  },
  {
   "cell_type": "markdown",
   "metadata": {},
   "source": [
    "# RWP"
   ]
  },
  {
   "cell_type": "code",
   "execution_count": 1,
   "metadata": {},
   "outputs": [],
   "source": [
    "#Import library \n",
    "from pymobility.models.mobility import random_waypoint"
   ]
  },
  {
   "cell_type": "code",
   "execution_count": 60,
   "metadata": {},
   "outputs": [],
   "source": [
    "rw = random_waypoint(12, dimensions=(500, 500), velocity=(5.0, 5.0), wt_max=1000.0)"
   ]
  },
  {
   "cell_type": "code",
   "execution_count": null,
   "metadata": {},
   "outputs": [],
   "source": [
    "positions = next(rw)\n",
    "positions"
   ]
  },
  {
   "cell_type": "code",
   "execution_count": null,
   "metadata": {},
   "outputs": [],
   "source": [
    "for positions in rw:\n",
    "    print(positions)"
   ]
  },
  {
   "cell_type": "code",
   "execution_count": 62,
   "metadata": {},
   "outputs": [],
   "source": [
    "import numpy as np\n",
    "from math import log as ln\n",
    "from math import sin,cos,pi,sqrt,atan,log2,exp,pow\n",
    "class LiFiAccessPoint:\n",
    "    def __init__(self,x,y):\n",
    "        self.x      = x                 # horizontal position of LiFi AP\n",
    "        self.y      = y                 # vertical position of LiFi AP\n",
    "        self.N_LiFi = pow(10,(-21))     # LiFi noise power spectral density \n",
    "        self.B_LiFi = 40*10e6           # LiFi bandwidth (Hz)\n",
    "        self.P_opt = 3                  # Optical power (watt)\n",
    "        self.R     = 0.53               # Responsivity (A/W)\n",
    "        self.scale = 100\n",
    "    def calculate_distance(self,user_position):\n",
    "        return sqrt( pow((self.x-user_position[0]),2) + pow((self.y-user_position[1]),2) ) / self.scale\n",
    "\n",
    "\n",
    "    def phi(self,user_position): # Angle between user-to-lifi access point with room vertical orthogonal line\n",
    "        h = 2                                       # Room height (m)\n",
    "        d = self.calculate_distance(user_position)\n",
    "        return atan( d / h)\n",
    "    \n",
    "    def g_c(self,psi): # Gain of optical concentrator\n",
    "        self.PSI_MAX    = pi/4  # Semi-angle of field of view (radian)\n",
    "        n               = 1.5   # Refractive index\n",
    "        if 0 <= psi and psi <= self.PSI_MAX:\n",
    "            return pow(n,2)/pow(sin(psi),2)\n",
    "        else:\n",
    "            return 0\n",
    "\n",
    "    def H_LOS(self,user_position): # Line of sight channel coefficient\n",
    "        led_half_pi= pi/3                                   # LED field of view (radian)\n",
    "        m          = -ln(2)/ln(cos(led_half_pi))            # lambertian order\n",
    "        A_PD       = 1                                      # Area of photodetector (cm^2)\n",
    "        g_f        = 1                                      # Optical filter gain\n",
    "        phi        = self.phi(user_position=user_position)\n",
    "        g_c        = self.g_c\n",
    "        d          = self.calculate_distance(user_position)\n",
    "        return ( (m+1)*A_PD*cos(phi)*g_f*g_c(phi)*cos(phi) ) / (2*pi*pow(d,2))\n",
    "\n",
    "    def H_LiFi(self,user):\n",
    "        return self.H_LOS(user.position) \n",
    "\n",
    "    def SNR(self,user): # Signal to noise ratio\n",
    "        return ( pow((self.H_LiFi(user)*self.P_opt*self.R),2) ) / (self.N_LiFi*self.B_LiFi)\n",
    "\n",
    "    def SINR(self,user,other_LiFi_AP): # Signal to interference noise ratio \n",
    "        interference = 0 \n",
    "        for i in other_LiFi_AP: \n",
    "            interference += i.H_LiFi(user)*i.P_opt*i.R\n",
    "        return ( pow((self.H_LiFi(user)*self.P_opt*self.R),2) ) / (self.N_LiFi*self.B_LiFi + interference)\n",
    "\n",
    "\n",
    "    def r(self,user,other_LiFi_AP): # Achievable rate\n",
    "        return (self.B_LiFi/2)*log2(1+(6/(pi*exp(1)))*self.SINR(user,other_LiFi_AP)) \n",
    "\n",
    "class WiFiAccessPoint:\n",
    "    def __init__(self,x,y):\n",
    "        self.x = x\n",
    "        self.y = y\n",
    "\n",
    "\n",
    "class User:\n",
    "    def __init__(self,number,position):\n",
    "        self.position = position\n",
    "        self.number = number"
   ]
  },
  {
   "cell_type": "code",
   "execution_count": 63,
   "metadata": {},
   "outputs": [],
   "source": [
    "from tkinter import *\n",
    "from time import time, sleep\n",
    "from PIL import Image,ImageTk\n",
    "import math\n",
    "import functools\n",
    "canvas_width            = 500\n",
    "canvas_height           = 500\n",
    "actual_room_width       = 5 #(m)\n",
    "actual_room_height      = 5 #(m)\n",
    "main_window_resolution  = \"550x550\"\n",
    "scale = 500 / 500\n",
    "\n",
    "# dimension of users\n",
    "rectangle_width = 10\n",
    "rectangle_height = 10\n",
    "\n",
    "\n",
    "N_USER          = 12                                             # Number of users\n",
    "N_LiFi_AP       = 4                                             # Number of LiFi access point\n",
    "N_WiFi_AP       = 1                                             # Number of WiFi access point\n",
    "\n",
    "\n",
    "LiFi_AP_coordinate = [[125,125],[125,375],[375,125],[375,375]] \n",
    "# def paint(event):\n",
    "#     python_green = \"#476042\"\n",
    "#     x1, y1 = (event.x - 1), (event.y - 1)\n",
    "#     x2, y2 = (event.x + 1), (event.y + 1)\n",
    "#     w.create_oval(x1, y1, x2, y2, fill=python_green)\n",
    "\n",
    "def showMovement():\n",
    "        global position\n",
    "\n",
    "        for i in range(N_USER):\n",
    "                x1 = position[i][0]\n",
    "                y1 = position[i][1]\n",
    "                position=next(rw)\n",
    "                x2 = position[i][0]\n",
    "                y2 = position[i][1]\n",
    "                dx = x2 - x1\n",
    "                dy = y2 - y1\n",
    "                w.move(users[i],dx*scale,dy*scale)\n",
    "                w.move(user_labels[i],dx*scale,dy*scale)\n",
    "                user_objects[i].position = w.coords(users[i])\n",
    "        calculate_snr(LiFi_APs,[],user_objects)\n",
    "        \n",
    "        w.after(50,showMovement)\n",
    "\n",
    "\n",
    "def calculate_snr(LiFi_APs,WiFi_APs,users):\n",
    "        global SNRs\n",
    "\n",
    "        SNRs = np.zeros((N_USER,N_LiFi_AP+N_WiFi_AP))\n",
    "        \n",
    "        for i in range(N_USER):\n",
    "                for j in range(N_LiFi_AP):\n",
    "                        other_LiFi_AP = [value[\"LiFi_AP_obj\"] for index, value in enumerate(LiFi_APs) if index != j]\n",
    "                        SNRs[i][j] = LiFi_APs[j][\"LiFi_AP_obj\"].SINR(user_objects[i],other_LiFi_AP)\n",
    "                w.itemconfig(user_labels[i], text=np.argmax(SNRs[i]), font=('Helvetica 8 bold'),fill=\"white\")\n",
    "                \n",
    "       \n",
    "\n",
    "master = Tk()\n",
    "# master = Toplevel()\n",
    "master.geometry(main_window_resolution)\n",
    "master.title(\"Room\")\n",
    "master.configure(bg=\"black\")\n",
    "\n",
    "w = Canvas(master,\n",
    "           width=canvas_width,\n",
    "           height=canvas_height,background=\"black\")\n",
    "w.pack(expand=YES, fill=BOTH)\n",
    "\n",
    "\n",
    "# w.pack()\n",
    "\n",
    "position = next(rw)\n",
    "users=[]\n",
    "user_objects=[]\n",
    "user_labels=[]\n",
    "LiFi_APs=[]\n",
    "# for n in range(Nu):\n",
    "#     users.append(w.create_rectangle(position[n][0]*scale,position[n][1]*scale,\n",
    "#                     position[n][0]*scale+rectangle_width,\n",
    "#                     position[n][1]*scale+rectangle_height,fill='blue'))\n",
    "\n",
    "colors=['blue','green','red','yellow','orange','white','blue','green','red','yellow','orange','white']\n",
    "\n",
    "for n in range(N_USER):\n",
    "        users.append(w.create_oval(position[n][0]*scale,position[n][1]*scale,\n",
    "                    position[n][0]*scale+rectangle_width,\n",
    "                    position[n][1]*scale+rectangle_height,fill=colors[n])\n",
    "                    )\n",
    "        user_objects.append(User(n,w.coords(users[n])))\n",
    "        if(position[n][0]-rectangle_width >= 0 and position[n][1]-rectangle_height >= 0):\n",
    "                user_labels.append(w.create_text(position[n][0]-rectangle_width, position[n][1]-rectangle_height, text=\"HELLO WORLD\", fill=\"black\", font=('Helvetica 15 bold')))\n",
    "        else:\n",
    "                user_labels.append(w.create_text(0, 0, text=\"\", fill=\"black\", font=('Helvetica 5 bold')))\n",
    "\n",
    "                \n",
    "LiFi_AP_img = Image.open(\"./images/LiFiAP.png\")\n",
    "LiFi_AP_img = LiFi_AP_img.resize((45,45),Image.ANTIALIAS)\n",
    "LiFi_AP_img = ImageTk.PhotoImage(LiFi_AP_img)\n",
    "scale_x = canvas_width/actual_room_width\n",
    "scale_y = canvas_width/actual_room_height\n",
    "\n",
    "for i in range(N_LiFi_AP):\n",
    "        x = LiFi_AP_coordinate[i][0]\n",
    "        y = LiFi_AP_coordinate[i][1]\n",
    "        LiFi_APs.append({\"LiFi_AP_image\": w.create_image(x,y,anchor=NW,image=LiFi_AP_img) , \"LiFi_AP_obj\" : LiFiAccessPoint(x,y)})\n",
    "\n",
    "\n",
    "w.after(50,showMovement)\n",
    "\n",
    "\n",
    "mainloop()    "
   ]
  },
  {
   "cell_type": "code",
   "execution_count": 31,
   "metadata": {},
   "outputs": [],
   "source": [
    "from math import log as ln\n",
    "from math import pi"
   ]
  },
  {
   "cell_type": "code",
   "execution_count": 32,
   "metadata": {},
   "outputs": [
    {
     "data": {
      "text/plain": [
       "3"
      ]
     },
     "execution_count": 32,
     "metadata": {},
     "output_type": "execute_result"
    }
   ],
   "source": [
    "class test:\n",
    "    def __init__(self):\n",
    "        self.m = 3\n",
    "\n",
    "test().m"
   ]
  },
  {
   "cell_type": "code",
   "execution_count": 10,
   "metadata": {},
   "outputs": [
    {
     "data": {
      "text/plain": [
       "100.0"
      ]
     },
     "execution_count": 10,
     "metadata": {},
     "output_type": "execute_result"
    }
   ],
   "source": [
    "scale_x"
   ]
  },
  {
   "cell_type": "code",
   "execution_count": 50,
   "metadata": {},
   "outputs": [
    {
     "data": {
      "text/plain": [
       "12"
      ]
     },
     "execution_count": 50,
     "metadata": {},
     "output_type": "execute_result"
    }
   ],
   "source": [
    "colors.__len__()"
   ]
  },
  {
   "cell_type": "code",
   "execution_count": null,
   "metadata": {},
   "outputs": [],
   "source": []
  }
 ],
 "metadata": {
  "kernelspec": {
   "display_name": "Python 3.9.1 64-bit",
   "language": "python",
   "name": "python3"
  },
  "language_info": {
   "codemirror_mode": {
    "name": "ipython",
    "version": 3
   },
   "file_extension": ".py",
   "mimetype": "text/x-python",
   "name": "python",
   "nbconvert_exporter": "python",
   "pygments_lexer": "ipython3",
   "version": "3.9.1"
  },
  "orig_nbformat": 4,
  "vscode": {
   "interpreter": {
    "hash": "81794d4967e6c3204c66dcd87b604927b115b27c00565d3d43f05ba2f3a2cb0d"
   }
  }
 },
 "nbformat": 4,
 "nbformat_minor": 2
}
