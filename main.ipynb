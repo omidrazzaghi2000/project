{
 "cells": [
  {
   "cell_type": "markdown",
   "metadata": {},
   "source": [
    "In the name of God  "
   ]
  },
  {
   "cell_type": "markdown",
   "metadata": {},
   "source": [
    "# RWP"
   ]
  },
  {
   "cell_type": "code",
   "execution_count": 7,
   "metadata": {},
   "outputs": [],
   "source": [
    "#Import library \n",
    "from pymobility.models.mobility import random_waypoint"
   ]
  },
  {
   "cell_type": "code",
   "execution_count": 25,
   "metadata": {},
   "outputs": [],
   "source": [
    "rw = random_waypoint(6, dimensions=(500, 500), velocity=(1.0, 1.0), wt_max=1.0)"
   ]
  },
  {
   "cell_type": "code",
   "execution_count": 9,
   "metadata": {},
   "outputs": [
    {
     "name": "stderr",
     "output_type": "stream",
     "text": [
      "d:\\Omid\\Myfiles\\University\\پروژه‌ی ارشد\\python\\testproject\\pymobility\\models\\mobility.py:30: RuntimeWarning: invalid value encountered in double_scalars\n",
      "  alpha1 = ((pause_high+pause_low)*(speed_high-speed_low))/(2*np.log(speed_high/speed_low))\n"
     ]
    },
    {
     "data": {
      "text/plain": [
       "array([[4.8134366 , 1.52991834],\n",
       "       [3.29779468, 4.60069091],\n",
       "       [3.95780063, 4.3794012 ],\n",
       "       [1.02173898, 3.00692807],\n",
       "       [0.91809198, 2.84981861],\n",
       "       [3.09117438, 1.54719884]])"
      ]
     },
     "execution_count": 9,
     "metadata": {},
     "output_type": "execute_result"
    }
   ],
   "source": [
    "positions = next(rw)\n",
    "positions"
   ]
  },
  {
   "cell_type": "code",
   "execution_count": null,
   "metadata": {},
   "outputs": [],
   "source": [
    "for positions in rw:\n",
    "    print(positions)"
   ]
  },
  {
   "cell_type": "code",
   "execution_count": 31,
   "metadata": {},
   "outputs": [],
   "source": [
    "from tkinter import *\n",
    "from time import time, sleep\n",
    "import math\n",
    "\n",
    "canvas_width = 500\n",
    "canvas_height = 500\n",
    "scale = 500 / 500\n",
    "\n",
    "# dimension of users\n",
    "rectangle_width = 5\n",
    "rectangle_height = 5\n",
    "\n",
    "\n",
    "Nu = 6 #Number of users\n",
    "\n",
    "# def paint(event):\n",
    "#     python_green = \"#476042\"\n",
    "#     x1, y1 = (event.x - 1), (event.y - 1)\n",
    "#     x2, y2 = (event.x + 1), (event.y + 1)\n",
    "#     w.create_oval(x1, y1, x2, y2, fill=python_green)\n",
    "\n",
    "def showMovement():\n",
    "        global position\n",
    "        for i in range(Nu):\n",
    "                x1 = position[i][0]\n",
    "                y1 = position[i][1]\n",
    "                position = next(rw)\n",
    "                x2 = position[i][0]\n",
    "                y2 = position[i][1]\n",
    "                dx = x2 - x1\n",
    "                dy = y2 - y1\n",
    "                w.move(user1,dx*scale,dy*scale)\n",
    "                p\n",
    "        w.after(50,showMovement)\n",
    "\n",
    "\n",
    "master = Tk()\n",
    "master.title(\"Room\")\n",
    "w = Canvas(master,\n",
    "           width=canvas_width,\n",
    "           height=canvas_height,background=\"white\")\n",
    "w.pack(expand=YES, fill=BOTH)\n",
    "\n",
    "position = next(rw)\n",
    "users=[]\n",
    "for n in range(Nu):\n",
    "    users[n] = w.create_rectangle(position[n][0]*scale,position[n][1]*scale,\n",
    "                    position[n][0]*scale+rectangle_width,\n",
    "                    position[n][1]*scale+rectangle_height,fill='blue')\n",
    "\n",
    "w.after(50, showMovement)\n",
    "mainloop()    "
   ]
  }
 ],
 "metadata": {
  "interpreter": {
   "hash": "63fd5069d213b44bf678585dea6b12cceca9941eaf7f819626cde1f2670de90d"
  },
  "kernelspec": {
   "display_name": "Python 3.9.1 64-bit",
   "language": "python",
   "name": "python3"
  },
  "language_info": {
   "codemirror_mode": {
    "name": "ipython",
    "version": 3
   },
   "file_extension": ".py",
   "mimetype": "text/x-python",
   "name": "python",
   "nbconvert_exporter": "python",
   "pygments_lexer": "ipython3",
   "version": "3.9.1"
  },
  "orig_nbformat": 4
 },
 "nbformat": 4,
 "nbformat_minor": 2
}
