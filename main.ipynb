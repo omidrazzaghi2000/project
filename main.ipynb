{
 "cells": [
  {
   "cell_type": "markdown",
   "metadata": {},
   "source": [
    "In the name of God  "
   ]
  },
  {
   "cell_type": "markdown",
   "metadata": {},
   "source": [
    "# RWP"
   ]
  },
  {
   "cell_type": "code",
   "execution_count": 1,
   "metadata": {},
   "outputs": [],
   "source": [
    "#Import library \n",
    "from pymobility.models.mobility import random_waypoint"
   ]
  },
  {
   "cell_type": "code",
   "execution_count": 2,
   "metadata": {},
   "outputs": [],
   "source": [
    "rw = random_waypoint(6, dimensions=(500, 500), velocity=(5.0, 5.0), wt_max=1000.0)"
   ]
  },
  {
   "cell_type": "code",
   "execution_count": null,
   "metadata": {},
   "outputs": [],
   "source": [
    "positions = next(rw)\n",
    "positions"
   ]
  },
  {
   "cell_type": "code",
   "execution_count": null,
   "metadata": {},
   "outputs": [],
   "source": [
    "for positions in rw:\n",
    "    print(positions)"
   ]
  },
  {
   "cell_type": "code",
   "execution_count": 6,
   "metadata": {},
   "outputs": [],
   "source": [
    "from tkinter import *\n",
    "from time import time, sleep\n",
    "import math\n",
    "\n",
    "canvas_width = 500\n",
    "canvas_height = 500\n",
    "scale = 500 / 500\n",
    "\n",
    "# dimension of users\n",
    "rectangle_width = 10\n",
    "rectangle_height = 10\n",
    "\n",
    "\n",
    "Nu        = 6 #Number of users\n",
    "N_LiFi_ap = 4\n",
    "N_WiFi_ap = 1\n",
    "# def paint(event):\n",
    "#     python_green = \"#476042\"\n",
    "#     x1, y1 = (event.x - 1), (event.y - 1)\n",
    "#     x2, y2 = (event.x + 1), (event.y + 1)\n",
    "#     w.create_oval(x1, y1, x2, y2, fill=python_green)\n",
    "\n",
    "def showMovement():\n",
    "        global position\n",
    "\n",
    "        for i in range(Nu):\n",
    "                x1 = position[i][0]\n",
    "                y1 = position[i][1]\n",
    "                position=next(rw)\n",
    "                x2 = position[i][0]\n",
    "                y2 = position[i][1]\n",
    "                dx = x2 - x1\n",
    "                dy = y2 - y1\n",
    "                w.move(users[i],dx*scale,dy*scale)\n",
    "       \n",
    "        w.after(50,showMovement)\n",
    "\n",
    "\n",
    "def getSnr():\n",
    "        for i in range(Nu):\n",
    "                for j in range(N)\n",
    "\n",
    "                \n",
    "\n",
    "master = Tk()\n",
    "master.title(\"Room\")\n",
    "w = Canvas(master,\n",
    "           width=canvas_width,\n",
    "           height=canvas_height,background=\"white\")\n",
    "w.pack(expand=YES, fill=BOTH)\n",
    "\n",
    "position = next(rw)\n",
    "users=[]\n",
    "# for n in range(Nu):\n",
    "#     users.append(w.create_rectangle(position[n][0]*scale,position[n][1]*scale,\n",
    "#                     position[n][0]*scale+rectangle_width,\n",
    "#                     position[n][1]*scale+rectangle_height,fill='blue'))\n",
    "\n",
    "colors=['blue','green','red','yellow','orange','black']\n",
    "\n",
    "for n in range(Nu):\n",
    "    users.append(w.create_oval(position[n][0]*scale,position[n][1]*scale,\n",
    "                    position[n][0]*scale+rectangle_width,\n",
    "                    position[n][1]*scale+rectangle_height,fill=colors[n]))\n",
    "\n",
    "w.after(50, showMovement)\n",
    "w.after(50, getSnr)\n",
    "\n",
    "mainloop()    "
   ]
  },
  {
   "cell_type": "code",
   "execution_count": 11,
   "metadata": {},
   "outputs": [
    {
     "data": {
      "text/plain": [
       "2.302585092994046"
      ]
     },
     "execution_count": 11,
     "metadata": {},
     "output_type": "execute_result"
    }
   ],
   "source": [
    "from math import log as ln\n",
    "from math import pi"
   ]
  },
  {
   "cell_type": "code",
   "execution_count": 12,
   "metadata": {},
   "outputs": [],
   "source": [
    "import numpy as np\n",
    "from math import log as ln\n",
    "from math import sin,cos,pi,sqrt,atan,log2,exp\n",
    "class LiFiAccessPoint:\n",
    "    def __init__(self,x,y):\n",
    "        self.x      = x         # horizontal position of LiFi AP\n",
    "        self.y      = y         # vertical position of LiFi AP\n",
    "        self.N_LiFi = 10^(-21)  # LiFi noise power spectral density \n",
    "        self.B_LiFi = 40*10^6   # LiFi bandwidth (Hz)\n",
    "        self.P_opt = 3               # Optical power (watt)\n",
    "        self.R     = 0.53            # Responsivity (A/W)\n",
    "    def calculate_distance(self,user_position):\n",
    "        return sqrt( (self.x-user_position[0])^2 + (self.y-user_position[1])^2 )\n",
    "\n",
    "\n",
    "    def phi(self,user_position): # Angle between user-to-lifi access point with room vertical orthogonal line\n",
    "        h = 2                                       # Room height (m)\n",
    "        d = self.calculate_distance(user_position)\n",
    "        return atan( d / h)\n",
    "    \n",
    "    def g_c(self,psi): # Gain of optical concentrator\n",
    "        self.PSI_MAX    = pi/4  # Semi-angle of field of view (radian)\n",
    "        n               = 1.5   # Refractive index\n",
    "        if 0 <= psi and psi <= self.PSI_MAX:\n",
    "            return n^2/sin(self.PSI_MAX)^2\n",
    "        else:\n",
    "            return 0\n",
    "\n",
    "    def H_LOS(self,user_position): # Line of sight channel coefficient\n",
    "        led_half_pi= pi/3                                   # LED field of view (radian)\n",
    "        m          = -ln(2)/ln(cos(led_half_pi))            # lambertian order\n",
    "        A_PD       = 1                                      # Area of photodetector (cm^2)\n",
    "        g_f        = 1                                      # Optical filter gain\n",
    "        phi        = self.phi(user_position=user_position)\n",
    "        g_c        = self.g_c\n",
    "        d          = self.calculate_distance(user_position)\n",
    "        return ( (m+1)*A_PD*cos(phi)*g_f*g_c(phi)*cos(phi) ) / (2*pi*d^2)\n",
    "\n",
    "    def H_LiFi(self,user):\n",
    "        return self.H_LOS(user.position) \n",
    "\n",
    "    def SNR(self,user): # Signal to noise ratio\n",
    "        return ( (self.H_LiFi(user)*self.P_opt*self.R)^2 ) / (self.N_LiFi*self.B_LiFi)\n",
    "\n",
    "    def SINR(self,user,other_LiFi_AP): # Signal to interference noise ratio \n",
    "        interference = 0 \n",
    "        for i in other_LiFi_AP: \n",
    "            interference += i.H_LiFi(user)*i.P_opt*i.R\n",
    "        return ( (self.H_LiFi(user)*self.P_opt*self.R)^2 ) / (self.N_LiFi*self.B_LiFi + interference)\n",
    "\n",
    "\n",
    "    def r(self,user,other_LiFi_AP): # Achievable rate\n",
    "        return (self.B_LiFi/2)*log2(1+(6/(pi*exp(1)))*self.SINR(user,other_LiFi_AP)) \n",
    "\n",
    "class WiFiAccessPoint:\n",
    "    def __init__(self,x,y):\n",
    "        self.x = x\n",
    "        self.y = y\n",
    "\n",
    "\n",
    "class User:\n",
    "    def __init__(self,number,position):\n",
    "        self.position = position\n",
    "        self.number = number"
   ]
  },
  {
   "cell_type": "code",
   "execution_count": 14,
   "metadata": {},
   "outputs": [
    {
     "data": {
      "text/plain": [
       "3"
      ]
     },
     "execution_count": 14,
     "metadata": {},
     "output_type": "execute_result"
    }
   ],
   "source": [
    "class test:\n",
    "    def __init__(self):\n",
    "        self.m = 3\n",
    "\n",
    "test().m"
   ]
  },
  {
   "cell_type": "code",
   "execution_count": null,
   "metadata": {},
   "outputs": [],
   "source": []
  }
 ],
 "metadata": {
  "kernelspec": {
   "display_name": "Python 3.9.1 64-bit",
   "language": "python",
   "name": "python3"
  },
  "language_info": {
   "codemirror_mode": {
    "name": "ipython",
    "version": 3
   },
   "file_extension": ".py",
   "mimetype": "text/x-python",
   "name": "python",
   "nbconvert_exporter": "python",
   "pygments_lexer": "ipython3",
   "version": "3.9.1"
  },
  "orig_nbformat": 4,
  "vscode": {
   "interpreter": {
    "hash": "81794d4967e6c3204c66dcd87b604927b115b27c00565d3d43f05ba2f3a2cb0d"
   }
  }
 },
 "nbformat": 4,
 "nbformat_minor": 2
}
